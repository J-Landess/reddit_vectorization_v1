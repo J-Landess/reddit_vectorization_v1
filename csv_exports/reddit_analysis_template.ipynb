{
 "cells": [
  {
   "cell_type": "markdown",
   "metadata": {},
   "source": [
    "# Reddit Data Analysis with Pandas\n",
    "\n",
    "This notebook provides a template for analyzing Reddit data exported from the pipeline."
   ]
  },
  {
   "cell_type": "code",
   "execution_count": null,
   "metadata": {},
   "outputs": [],
   "source": [
    "import pandas as pd\n",
    "import numpy as np\n",
    "import matplotlib.pyplot as plt\n",
    "import seaborn as sns\n",
    "from datetime import datetime\n",
    "\n",
    "# Set up plotting\n",
    "plt.style.use('seaborn-v0_8')\n",
    "sns.set_palette('husl')"
   ]
  },
  {
   "cell_type": "code",
   "execution_count": null,
   "metadata": {},
   "outputs": [],
   "source": [
    "# Load the data\n",
    "posts_df = pd.read_csv('reddit_posts.csv')\n",
    "comments_df = pd.read_csv('reddit_comments.csv')\n",
    "all_data_df = pd.read_csv('reddit_all_data.csv')\n",
    "\n",
    "print(f'Loaded {len(posts_df)} posts and {len(comments_df)} comments')\n",
    "print(f'Total items: {len(all_data_df)}')"
   ]
  },
  {
   "cell_type": "code",
   "execution_count": null,
   "metadata": {},
   "outputs": [],
   "source": [
    "# Basic data exploration\n",
    "print('Data Overview:')\n",
    "print(all_data_df.info())\n",
    "print('\nFirst few rows:')\n",
    "print(all_data_df.head())"
   ]
  },
  {
   "cell_type": "code",
   "execution_count": null,
   "metadata": {},
   "outputs": [],
   "source": [
    "# Subreddit analysis\n",
    "subreddit_counts = all_data_df['subreddit'].value_counts()\n",
    "print('Posts/Comments by Subreddit:')\n",
    "print(subreddit_counts)\n",
    "\n",
    "plt.figure(figsize=(12, 6))\n",
    "subreddit_counts.plot(kind='bar')\n",
    "plt.title('Posts/Comments by Subreddit')\n",
    "plt.xlabel('Subreddit')\n",
    "plt.ylabel('Count')\n",
    "plt.xticks(rotation=45)\n",
    "plt.tight_layout()\n",
    "plt.show()"
   ]
  },
  {
   "cell_type": "code",
   "execution_count": null,
   "metadata": {},
   "outputs": [],
   "source": [
    "# Score analysis\n",
    "plt.figure(figsize=(15, 5))\n",
    "\n",
    "plt.subplot(1, 3, 1)\n",
    "all_data_df['score'].hist(bins=30)\n",
    "plt.title('Score Distribution')\n",
    "plt.xlabel('Score')\n",
    "plt.ylabel('Frequency')\n",
    "\n",
    "plt.subplot(1, 3, 2)\n",
    "all_data_df.boxplot(column='score', by='subreddit')\n",
    "plt.title('Score by Subreddit')\n",
    "plt.xticks(rotation=45)\n",
    "\n",
    "plt.subplot(1, 3, 3)\n",
    "all_data_df['word_count'].hist(bins=30)\n",
    "plt.title('Word Count Distribution')\n",
    "plt.xlabel('Word Count')\n",
    "plt.ylabel('Frequency')\n",
    "\n",
    "plt.tight_layout()\n",
    "plt.show()"
   ]
  },
  {
   "cell_type": "code",
   "execution_count": null,
   "metadata": {},
   "outputs": [],
   "source": [
    "# Cluster analysis (if available)\n",
    "if 'cluster_id' in all_data_df.columns:\n",
    "    cluster_counts = all_data_df['cluster_id'].value_counts().sort_index()\n",
    "    print('Cluster Distribution:')\n",
    "    print(cluster_counts)\n",
    "    \n",
    "    plt.figure(figsize=(12, 6))\n",
    "    cluster_counts.plot(kind='bar')\n",
    "    plt.title('Items per Cluster')\n",
    "    plt.xlabel('Cluster ID')\n",
    "    plt.ylabel('Count')\n",
    "    plt.show()"
   ]
  },
  {
   "cell_type": "code",
   "execution_count": null,
   "metadata": {},
   "outputs": [],
   "source": [
    "# Time series analysis\n",
    "all_data_df['created_utc'] = pd.to_datetime(all_data_df['created_utc'])\n",
    "all_data_df['date'] = all_data_df['created_utc'].dt.date\n",
    "\n",
    "daily_counts = all_data_df.groupby('date').size()\n",
    "plt.figure(figsize=(12, 6))\n",
    "daily_counts.plot(kind='line')\n",
    "plt.title('Daily Activity')\n",
    "plt.xlabel('Date')\n",
    "plt.ylabel('Number of Posts/Comments')\n",
    "plt.xticks(rotation=45)\n",
    "plt.tight_layout()\n",
    "plt.show()"
   ]
  }
 ],
 "metadata": {
  "kernelspec": {
   "display_name": "Python 3",
   "language": "python",
   "name": "python3"
  },
  "language_info": {
   "codemirror_mode": {
    "name": "ipython",
    "version": 3
   },
   "file_extension": ".py",
   "mimetype": "text/x-python",
   "name": "python",
   "nbconvert_exporter": "python",
   "pygments_lexer": "ipython3",
   "version": "3.9.0"
  }
 },
 "nbformat": 4,
 "nbformat_minor": 4
}